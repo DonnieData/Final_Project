{
 "cells": [
  {
   "cell_type": "code",
   "execution_count": 1,
   "metadata": {},
   "outputs": [],
   "source": [
    "#import libraries\n",
    "import pandas as pd\n",
    "import numpy as np"
   ]
  },
  {
   "cell_type": "code",
   "execution_count": 5,
   "metadata": {
    "scrolled": true
   },
   "outputs": [],
   "source": [
    "# Read in datasets\n",
    "#import beers\n",
    "beers = pd.read_csv('Resources/beers.csv', index_col='name')\n",
    "breweries = pd.read_csv('Resources/breweries.csv', index_col='name')"
   ]
  },
  {
   "cell_type": "code",
   "execution_count": null,
   "metadata": {},
   "outputs": [],
   "source": []
  },
  {
   "cell_type": "code",
   "execution_count": 6,
   "metadata": {},
   "outputs": [],
   "source": [
    "sbeers = beers[\n",
    "    ['abv','ibu','style']\n",
    "]\n",
    "sbeers = sbeers.dropna()"
   ]
  },
  {
   "cell_type": "code",
   "execution_count": 10,
   "metadata": {},
   "outputs": [
    {
     "data": {
      "text/html": [
       "<div>\n",
       "<style scoped>\n",
       "    .dataframe tbody tr th:only-of-type {\n",
       "        vertical-align: middle;\n",
       "    }\n",
       "\n",
       "    .dataframe tbody tr th {\n",
       "        vertical-align: top;\n",
       "    }\n",
       "\n",
       "    .dataframe thead th {\n",
       "        text-align: right;\n",
       "    }\n",
       "</style>\n",
       "<table border=\"1\" class=\"dataframe\">\n",
       "  <thead>\n",
       "    <tr style=\"text-align: right;\">\n",
       "      <th></th>\n",
       "      <th>style</th>\n",
       "    </tr>\n",
       "    <tr>\n",
       "      <th>name</th>\n",
       "      <th></th>\n",
       "    </tr>\n",
       "  </thead>\n",
       "  <tbody>\n",
       "    <tr>\n",
       "      <th>LuckenBock</th>\n",
       "      <td>Bock</td>\n",
       "    </tr>\n",
       "    <tr>\n",
       "      <th>Mo's Gose</th>\n",
       "      <td>Gose</td>\n",
       "    </tr>\n",
       "    <tr>\n",
       "      <th>805</th>\n",
       "      <td>American Blonde Ale</td>\n",
       "    </tr>\n",
       "    <tr>\n",
       "      <th>Overcast Espresso Stout</th>\n",
       "      <td>American Stout</td>\n",
       "    </tr>\n",
       "    <tr>\n",
       "      <th>Abominable Winter Ale</th>\n",
       "      <td>American Strong Ale</td>\n",
       "    </tr>\n",
       "    <tr>\n",
       "      <th>...</th>\n",
       "      <td>...</td>\n",
       "    </tr>\n",
       "    <tr>\n",
       "      <th>Consilium</th>\n",
       "      <td>American Pale Ale (APA)</td>\n",
       "    </tr>\n",
       "    <tr>\n",
       "      <th>Pyramid Hefeweizen (2011)</th>\n",
       "      <td>Hefeweizen</td>\n",
       "    </tr>\n",
       "    <tr>\n",
       "      <th>Aviator Raspberry Blonde</th>\n",
       "      <td>American Blonde Ale</td>\n",
       "    </tr>\n",
       "    <tr>\n",
       "      <th>Self Starter</th>\n",
       "      <td>American IPA</td>\n",
       "    </tr>\n",
       "    <tr>\n",
       "      <th>Harpoon Summer Beer (2012)</th>\n",
       "      <td>Kölsch</td>\n",
       "    </tr>\n",
       "  </tbody>\n",
       "</table>\n",
       "<p>1052 rows × 1 columns</p>\n",
       "</div>"
      ],
      "text/plain": [
       "                                              style\n",
       "name                                               \n",
       "LuckenBock                                     Bock\n",
       "Mo's Gose                                      Gose\n",
       "805                             American Blonde Ale\n",
       "Overcast Espresso Stout              American Stout\n",
       "Abominable Winter Ale           American Strong Ale\n",
       "...                                             ...\n",
       "Consilium                   American Pale Ale (APA)\n",
       "Pyramid Hefeweizen (2011)                Hefeweizen\n",
       "Aviator Raspberry Blonde        American Blonde Ale\n",
       "Self Starter                           American IPA\n",
       "Harpoon Summer Beer (2012)                   Kölsch\n",
       "\n",
       "[1052 rows x 1 columns]"
      ]
     },
     "execution_count": 10,
     "metadata": {},
     "output_type": "execute_result"
    }
   ],
   "source": [
    "from sklearn.model_selection import train_test_split\n",
    "X_train, X_test, y_train, y_test = train_test_split(sbeers[['ibu','abv']], sbeers[['style']], random_state=48)\n",
    "from sklearn.preprocessing import MinMaxScaler\n",
    "scaler = MinMaxScaler()\n",
    "X_train = scaler.fit_transform(X_train)\n",
    "X_test = scaler.transform(X_test)\n",
    "y_train"
   ]
  },
  {
   "cell_type": "code",
   "execution_count": null,
   "metadata": {},
   "outputs": [],
   "source": []
  }
 ],
 "metadata": {
  "kernelspec": {
   "display_name": "PythonData",
   "language": "python",
   "name": "pythondata"
  },
  "language_info": {
   "codemirror_mode": {
    "name": "ipython",
    "version": 3
   },
   "file_extension": ".py",
   "mimetype": "text/x-python",
   "name": "python",
   "nbconvert_exporter": "python",
   "pygments_lexer": "ipython3",
   "version": "3.7.7"
  }
 },
 "nbformat": 4,
 "nbformat_minor": 4
}
