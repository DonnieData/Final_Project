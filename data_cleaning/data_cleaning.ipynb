{
 "cells": [
  {
   "cell_type": "code",
   "execution_count": 1,
   "id": "reverse-duplicate",
   "metadata": {
    "execution": {
     "iopub.execute_input": "2021-03-19T00:35:58.522334Z",
     "iopub.status.busy": "2021-03-19T00:35:58.521044Z",
     "iopub.status.idle": "2021-03-19T00:35:58.534007Z",
     "shell.execute_reply": "2021-03-19T00:35:58.532561Z",
     "shell.execute_reply.started": "2021-03-19T00:35:58.522334Z"
    }
   },
   "outputs": [],
   "source": [
    "#import dependecies \n",
    "import pandas as pd"
   ]
  },
  {
   "cell_type": "code",
   "execution_count": 24,
   "id": "cooked-network",
   "metadata": {
    "execution": {
     "iopub.execute_input": "2021-03-19T00:49:28.882924Z",
     "iopub.status.busy": "2021-03-19T00:49:28.881928Z",
     "iopub.status.idle": "2021-03-19T00:49:28.906622Z",
     "shell.execute_reply": "2021-03-19T00:49:28.905625Z",
     "shell.execute_reply.started": "2021-03-19T00:49:28.882924Z"
    }
   },
   "outputs": [],
   "source": [
    "# load csv \n",
    "beers_df = pd.read_csv('beers.csv')\n",
    "brewery_df = pd.read_csv('breweries.csv')"
   ]
  },
  {
   "cell_type": "code",
   "execution_count": 27,
   "id": "qualified-vertical",
   "metadata": {
    "execution": {
     "iopub.execute_input": "2021-03-19T00:49:31.348181Z",
     "iopub.status.busy": "2021-03-19T00:49:31.348181Z",
     "iopub.status.idle": "2021-03-19T00:49:31.376104Z",
     "shell.execute_reply": "2021-03-19T00:49:31.375108Z",
     "shell.execute_reply.started": "2021-03-19T00:49:31.348181Z"
    }
   },
   "outputs": [
    {
     "data": {
      "text/html": [
       "<div>\n",
       "<style scoped>\n",
       "    .dataframe tbody tr th:only-of-type {\n",
       "        vertical-align: middle;\n",
       "    }\n",
       "\n",
       "    .dataframe tbody tr th {\n",
       "        vertical-align: top;\n",
       "    }\n",
       "\n",
       "    .dataframe thead th {\n",
       "        text-align: right;\n",
       "    }\n",
       "</style>\n",
       "<table border=\"1\" class=\"dataframe\">\n",
       "  <thead>\n",
       "    <tr style=\"text-align: right;\">\n",
       "      <th></th>\n",
       "      <th>Unnamed: 0</th>\n",
       "      <th>abv</th>\n",
       "      <th>ibu</th>\n",
       "      <th>id</th>\n",
       "      <th>name</th>\n",
       "      <th>style</th>\n",
       "      <th>brewery_id</th>\n",
       "      <th>ounces</th>\n",
       "    </tr>\n",
       "  </thead>\n",
       "  <tbody>\n",
       "    <tr>\n",
       "      <th>0</th>\n",
       "      <td>0</td>\n",
       "      <td>0.050</td>\n",
       "      <td>NaN</td>\n",
       "      <td>1436</td>\n",
       "      <td>Pub Beer</td>\n",
       "      <td>American Pale Lager</td>\n",
       "      <td>408</td>\n",
       "      <td>12.0</td>\n",
       "    </tr>\n",
       "    <tr>\n",
       "      <th>1</th>\n",
       "      <td>1</td>\n",
       "      <td>0.066</td>\n",
       "      <td>NaN</td>\n",
       "      <td>2265</td>\n",
       "      <td>Devil's Cup</td>\n",
       "      <td>American Pale Ale (APA)</td>\n",
       "      <td>177</td>\n",
       "      <td>12.0</td>\n",
       "    </tr>\n",
       "    <tr>\n",
       "      <th>2</th>\n",
       "      <td>2</td>\n",
       "      <td>0.071</td>\n",
       "      <td>NaN</td>\n",
       "      <td>2264</td>\n",
       "      <td>Rise of the Phoenix</td>\n",
       "      <td>American IPA</td>\n",
       "      <td>177</td>\n",
       "      <td>12.0</td>\n",
       "    </tr>\n",
       "    <tr>\n",
       "      <th>3</th>\n",
       "      <td>3</td>\n",
       "      <td>0.090</td>\n",
       "      <td>NaN</td>\n",
       "      <td>2263</td>\n",
       "      <td>Sinister</td>\n",
       "      <td>American Double / Imperial IPA</td>\n",
       "      <td>177</td>\n",
       "      <td>12.0</td>\n",
       "    </tr>\n",
       "    <tr>\n",
       "      <th>4</th>\n",
       "      <td>4</td>\n",
       "      <td>0.075</td>\n",
       "      <td>NaN</td>\n",
       "      <td>2262</td>\n",
       "      <td>Sex and Candy</td>\n",
       "      <td>American IPA</td>\n",
       "      <td>177</td>\n",
       "      <td>12.0</td>\n",
       "    </tr>\n",
       "  </tbody>\n",
       "</table>\n",
       "</div>"
      ],
      "text/plain": [
       "   Unnamed: 0    abv  ibu    id                 name  \\\n",
       "0           0  0.050  NaN  1436             Pub Beer   \n",
       "1           1  0.066  NaN  2265          Devil's Cup   \n",
       "2           2  0.071  NaN  2264  Rise of the Phoenix   \n",
       "3           3  0.090  NaN  2263             Sinister   \n",
       "4           4  0.075  NaN  2262        Sex and Candy   \n",
       "\n",
       "                            style  brewery_id  ounces  \n",
       "0             American Pale Lager         408    12.0  \n",
       "1         American Pale Ale (APA)         177    12.0  \n",
       "2                    American IPA         177    12.0  \n",
       "3  American Double / Imperial IPA         177    12.0  \n",
       "4                    American IPA         177    12.0  "
      ]
     },
     "execution_count": 27,
     "metadata": {},
     "output_type": "execute_result"
    },
    {
     "data": {
      "text/html": [
       "<div>\n",
       "<style scoped>\n",
       "    .dataframe tbody tr th:only-of-type {\n",
       "        vertical-align: middle;\n",
       "    }\n",
       "\n",
       "    .dataframe tbody tr th {\n",
       "        vertical-align: top;\n",
       "    }\n",
       "\n",
       "    .dataframe thead th {\n",
       "        text-align: right;\n",
       "    }\n",
       "</style>\n",
       "<table border=\"1\" class=\"dataframe\">\n",
       "  <thead>\n",
       "    <tr style=\"text-align: right;\">\n",
       "      <th></th>\n",
       "      <th>Unnamed: 0</th>\n",
       "      <th>name</th>\n",
       "      <th>city</th>\n",
       "      <th>state</th>\n",
       "    </tr>\n",
       "  </thead>\n",
       "  <tbody>\n",
       "    <tr>\n",
       "      <th>0</th>\n",
       "      <td>0</td>\n",
       "      <td>NorthGate Brewing</td>\n",
       "      <td>Minneapolis</td>\n",
       "      <td>MN</td>\n",
       "    </tr>\n",
       "    <tr>\n",
       "      <th>1</th>\n",
       "      <td>1</td>\n",
       "      <td>Against the Grain Brewery</td>\n",
       "      <td>Louisville</td>\n",
       "      <td>KY</td>\n",
       "    </tr>\n",
       "    <tr>\n",
       "      <th>2</th>\n",
       "      <td>2</td>\n",
       "      <td>Jack's Abby Craft Lagers</td>\n",
       "      <td>Framingham</td>\n",
       "      <td>MA</td>\n",
       "    </tr>\n",
       "    <tr>\n",
       "      <th>3</th>\n",
       "      <td>3</td>\n",
       "      <td>Mike Hess Brewing Company</td>\n",
       "      <td>San Diego</td>\n",
       "      <td>CA</td>\n",
       "    </tr>\n",
       "    <tr>\n",
       "      <th>4</th>\n",
       "      <td>4</td>\n",
       "      <td>Fort Point Beer Company</td>\n",
       "      <td>San Francisco</td>\n",
       "      <td>CA</td>\n",
       "    </tr>\n",
       "  </tbody>\n",
       "</table>\n",
       "</div>"
      ],
      "text/plain": [
       "   Unnamed: 0                       name           city state\n",
       "0           0         NorthGate Brewing     Minneapolis    MN\n",
       "1           1  Against the Grain Brewery     Louisville    KY\n",
       "2           2   Jack's Abby Craft Lagers     Framingham    MA\n",
       "3           3  Mike Hess Brewing Company      San Diego    CA\n",
       "4           4    Fort Point Beer Company  San Francisco    CA"
      ]
     },
     "execution_count": 27,
     "metadata": {},
     "output_type": "execute_result"
    }
   ],
   "source": [
    "#review dataframes\n",
    "beers_df.head()\n",
    "brewery_df.head()"
   ]
  },
  {
   "cell_type": "code",
   "execution_count": 28,
   "id": "juvenile-savannah",
   "metadata": {
    "execution": {
     "iopub.execute_input": "2021-03-19T00:49:42.888295Z",
     "iopub.status.busy": "2021-03-19T00:49:42.888295Z",
     "iopub.status.idle": "2021-03-19T00:49:42.897434Z",
     "shell.execute_reply": "2021-03-19T00:49:42.896437Z",
     "shell.execute_reply.started": "2021-03-19T00:49:42.888295Z"
    }
   },
   "outputs": [],
   "source": [
    "#drop column \n",
    "beers_df.drop('Unnamed: 0', axis=1, inplace=True)"
   ]
  },
  {
   "cell_type": "code",
   "execution_count": 34,
   "id": "loving-museum",
   "metadata": {
    "execution": {
     "iopub.execute_input": "2021-03-19T00:52:14.926430Z",
     "iopub.status.busy": "2021-03-19T00:52:14.925435Z",
     "iopub.status.idle": "2021-03-19T00:52:14.946935Z",
     "shell.execute_reply": "2021-03-19T00:52:14.945941Z",
     "shell.execute_reply.started": "2021-03-19T00:52:14.926430Z"
    }
   },
   "outputs": [
    {
     "data": {
      "text/plain": [
       "'Unnamed: 0'"
      ]
     },
     "execution_count": 34,
     "metadata": {},
     "output_type": "execute_result"
    },
    {
     "data": {
      "text/html": [
       "<div>\n",
       "<style scoped>\n",
       "    .dataframe tbody tr th:only-of-type {\n",
       "        vertical-align: middle;\n",
       "    }\n",
       "\n",
       "    .dataframe tbody tr th {\n",
       "        vertical-align: top;\n",
       "    }\n",
       "\n",
       "    .dataframe thead th {\n",
       "        text-align: right;\n",
       "    }\n",
       "</style>\n",
       "<table border=\"1\" class=\"dataframe\">\n",
       "  <thead>\n",
       "    <tr style=\"text-align: right;\">\n",
       "      <th></th>\n",
       "      <th>brewery_id</th>\n",
       "      <th>name</th>\n",
       "      <th>city</th>\n",
       "      <th>state</th>\n",
       "    </tr>\n",
       "  </thead>\n",
       "  <tbody>\n",
       "    <tr>\n",
       "      <th>0</th>\n",
       "      <td>0</td>\n",
       "      <td>NorthGate Brewing</td>\n",
       "      <td>Minneapolis</td>\n",
       "      <td>MN</td>\n",
       "    </tr>\n",
       "    <tr>\n",
       "      <th>1</th>\n",
       "      <td>1</td>\n",
       "      <td>Against the Grain Brewery</td>\n",
       "      <td>Louisville</td>\n",
       "      <td>KY</td>\n",
       "    </tr>\n",
       "    <tr>\n",
       "      <th>2</th>\n",
       "      <td>2</td>\n",
       "      <td>Jack's Abby Craft Lagers</td>\n",
       "      <td>Framingham</td>\n",
       "      <td>MA</td>\n",
       "    </tr>\n",
       "    <tr>\n",
       "      <th>3</th>\n",
       "      <td>3</td>\n",
       "      <td>Mike Hess Brewing Company</td>\n",
       "      <td>San Diego</td>\n",
       "      <td>CA</td>\n",
       "    </tr>\n",
       "    <tr>\n",
       "      <th>4</th>\n",
       "      <td>4</td>\n",
       "      <td>Fort Point Beer Company</td>\n",
       "      <td>San Francisco</td>\n",
       "      <td>CA</td>\n",
       "    </tr>\n",
       "  </tbody>\n",
       "</table>\n",
       "</div>"
      ],
      "text/plain": [
       "   brewery_id                       name           city state\n",
       "0           0         NorthGate Brewing     Minneapolis    MN\n",
       "1           1  Against the Grain Brewery     Louisville    KY\n",
       "2           2   Jack's Abby Craft Lagers     Framingham    MA\n",
       "3           3  Mike Hess Brewing Company      San Diego    CA\n",
       "4           4    Fort Point Beer Company  San Francisco    CA"
      ]
     },
     "execution_count": 34,
     "metadata": {},
     "output_type": "execute_result"
    }
   ],
   "source": [
    "#renme column \n",
    "brewery_df.columns[0]\n",
    "brewery_df.rename({'Unnamed: 0':'brewery_id'},axis=1, inplace=True)\n",
    "brewery_df.head()"
   ]
  },
  {
   "cell_type": "code",
   "execution_count": 40,
   "id": "afraid-diabetes",
   "metadata": {
    "execution": {
     "iopub.execute_input": "2021-03-19T00:56:17.601875Z",
     "iopub.status.busy": "2021-03-19T00:56:17.601875Z",
     "iopub.status.idle": "2021-03-19T00:56:17.611923Z",
     "shell.execute_reply": "2021-03-19T00:56:17.611923Z",
     "shell.execute_reply.started": "2021-03-19T00:56:17.601875Z"
    }
   },
   "outputs": [],
   "source": [
    "#merge columns \n",
    "merged_df = beers_df.join(brewery_df, how='left',on='brewery_id', rsuffix='brewery_')"
   ]
  },
  {
   "cell_type": "code",
   "execution_count": 42,
   "id": "mobile-creek",
   "metadata": {
    "execution": {
     "iopub.execute_input": "2021-03-19T00:56:24.293826Z",
     "iopub.status.busy": "2021-03-19T00:56:24.293826Z",
     "iopub.status.idle": "2021-03-19T00:56:24.315665Z",
     "shell.execute_reply": "2021-03-19T00:56:24.314706Z",
     "shell.execute_reply.started": "2021-03-19T00:56:24.293826Z"
    }
   },
   "outputs": [
    {
     "data": {
      "text/html": [
       "<div>\n",
       "<style scoped>\n",
       "    .dataframe tbody tr th:only-of-type {\n",
       "        vertical-align: middle;\n",
       "    }\n",
       "\n",
       "    .dataframe tbody tr th {\n",
       "        vertical-align: top;\n",
       "    }\n",
       "\n",
       "    .dataframe thead th {\n",
       "        text-align: right;\n",
       "    }\n",
       "</style>\n",
       "<table border=\"1\" class=\"dataframe\">\n",
       "  <thead>\n",
       "    <tr style=\"text-align: right;\">\n",
       "      <th></th>\n",
       "      <th>abv</th>\n",
       "      <th>ibu</th>\n",
       "      <th>id</th>\n",
       "      <th>name</th>\n",
       "      <th>style</th>\n",
       "      <th>brewery_id</th>\n",
       "      <th>ounces</th>\n",
       "      <th>brewery_idbrewery_</th>\n",
       "      <th>namebrewery_</th>\n",
       "      <th>city</th>\n",
       "      <th>state</th>\n",
       "    </tr>\n",
       "  </thead>\n",
       "  <tbody>\n",
       "    <tr>\n",
       "      <th>0</th>\n",
       "      <td>0.050</td>\n",
       "      <td>NaN</td>\n",
       "      <td>1436</td>\n",
       "      <td>Pub Beer</td>\n",
       "      <td>American Pale Lager</td>\n",
       "      <td>408</td>\n",
       "      <td>12.0</td>\n",
       "      <td>408</td>\n",
       "      <td>10 Barrel Brewing Company</td>\n",
       "      <td>Bend</td>\n",
       "      <td>OR</td>\n",
       "    </tr>\n",
       "    <tr>\n",
       "      <th>1</th>\n",
       "      <td>0.066</td>\n",
       "      <td>NaN</td>\n",
       "      <td>2265</td>\n",
       "      <td>Devil's Cup</td>\n",
       "      <td>American Pale Ale (APA)</td>\n",
       "      <td>177</td>\n",
       "      <td>12.0</td>\n",
       "      <td>177</td>\n",
       "      <td>18th Street Brewery</td>\n",
       "      <td>Gary</td>\n",
       "      <td>IN</td>\n",
       "    </tr>\n",
       "    <tr>\n",
       "      <th>2</th>\n",
       "      <td>0.071</td>\n",
       "      <td>NaN</td>\n",
       "      <td>2264</td>\n",
       "      <td>Rise of the Phoenix</td>\n",
       "      <td>American IPA</td>\n",
       "      <td>177</td>\n",
       "      <td>12.0</td>\n",
       "      <td>177</td>\n",
       "      <td>18th Street Brewery</td>\n",
       "      <td>Gary</td>\n",
       "      <td>IN</td>\n",
       "    </tr>\n",
       "    <tr>\n",
       "      <th>3</th>\n",
       "      <td>0.090</td>\n",
       "      <td>NaN</td>\n",
       "      <td>2263</td>\n",
       "      <td>Sinister</td>\n",
       "      <td>American Double / Imperial IPA</td>\n",
       "      <td>177</td>\n",
       "      <td>12.0</td>\n",
       "      <td>177</td>\n",
       "      <td>18th Street Brewery</td>\n",
       "      <td>Gary</td>\n",
       "      <td>IN</td>\n",
       "    </tr>\n",
       "    <tr>\n",
       "      <th>4</th>\n",
       "      <td>0.075</td>\n",
       "      <td>NaN</td>\n",
       "      <td>2262</td>\n",
       "      <td>Sex and Candy</td>\n",
       "      <td>American IPA</td>\n",
       "      <td>177</td>\n",
       "      <td>12.0</td>\n",
       "      <td>177</td>\n",
       "      <td>18th Street Brewery</td>\n",
       "      <td>Gary</td>\n",
       "      <td>IN</td>\n",
       "    </tr>\n",
       "  </tbody>\n",
       "</table>\n",
       "</div>"
      ],
      "text/plain": [
       "     abv  ibu    id                 name                           style  \\\n",
       "0  0.050  NaN  1436             Pub Beer             American Pale Lager   \n",
       "1  0.066  NaN  2265          Devil's Cup         American Pale Ale (APA)   \n",
       "2  0.071  NaN  2264  Rise of the Phoenix                    American IPA   \n",
       "3  0.090  NaN  2263             Sinister  American Double / Imperial IPA   \n",
       "4  0.075  NaN  2262        Sex and Candy                    American IPA   \n",
       "\n",
       "   brewery_id  ounces  brewery_idbrewery_               namebrewery_  city  \\\n",
       "0         408    12.0                 408  10 Barrel Brewing Company  Bend   \n",
       "1         177    12.0                 177        18th Street Brewery  Gary   \n",
       "2         177    12.0                 177        18th Street Brewery  Gary   \n",
       "3         177    12.0                 177        18th Street Brewery  Gary   \n",
       "4         177    12.0                 177        18th Street Brewery  Gary   \n",
       "\n",
       "  state  \n",
       "0    OR  \n",
       "1    IN  \n",
       "2    IN  \n",
       "3    IN  \n",
       "4    IN  "
      ]
     },
     "execution_count": 42,
     "metadata": {},
     "output_type": "execute_result"
    }
   ],
   "source": [
    "#review \n",
    "merged_df.head()"
   ]
  },
  {
   "cell_type": "code",
   "execution_count": 70,
   "id": "incredible-opportunity",
   "metadata": {
    "execution": {
     "iopub.execute_input": "2021-03-19T01:14:40.282031Z",
     "iopub.status.busy": "2021-03-19T01:14:40.282031Z",
     "iopub.status.idle": "2021-03-19T01:14:40.353953Z",
     "shell.execute_reply": "2021-03-19T01:14:40.352958Z",
     "shell.execute_reply.started": "2021-03-19T01:14:40.282031Z"
    }
   },
   "outputs": [
    {
     "data": {
      "text/html": [
       "<div>\n",
       "<style scoped>\n",
       "    .dataframe tbody tr th:only-of-type {\n",
       "        vertical-align: middle;\n",
       "    }\n",
       "\n",
       "    .dataframe tbody tr th {\n",
       "        vertical-align: top;\n",
       "    }\n",
       "\n",
       "    .dataframe thead th {\n",
       "        text-align: right;\n",
       "    }\n",
       "</style>\n",
       "<table border=\"1\" class=\"dataframe\">\n",
       "  <thead>\n",
       "    <tr style=\"text-align: right;\">\n",
       "      <th></th>\n",
       "      <th>abv</th>\n",
       "      <th>ibu</th>\n",
       "      <th>id</th>\n",
       "      <th>name</th>\n",
       "      <th>style</th>\n",
       "      <th>brewery_id</th>\n",
       "      <th>ounces</th>\n",
       "      <th>brewery_idbrewery_</th>\n",
       "      <th>namebrewery_</th>\n",
       "      <th>city</th>\n",
       "      <th>state</th>\n",
       "    </tr>\n",
       "  </thead>\n",
       "  <tbody>\n",
       "    <tr>\n",
       "      <th>294</th>\n",
       "      <td>NaN</td>\n",
       "      <td>NaN</td>\n",
       "      <td>1541</td>\n",
       "      <td>Double Play Pilsner</td>\n",
       "      <td>American Pilsner</td>\n",
       "      <td>380</td>\n",
       "      <td>12.0</td>\n",
       "      <td>380</td>\n",
       "      <td>Blue Blood Brewing Company</td>\n",
       "      <td>Lincoln</td>\n",
       "      <td>NE</td>\n",
       "    </tr>\n",
       "    <tr>\n",
       "      <th>299</th>\n",
       "      <td>NaN</td>\n",
       "      <td>NaN</td>\n",
       "      <td>1025</td>\n",
       "      <td>N Street Drive-In 50th Anniversary IPA</td>\n",
       "      <td>American Double / Imperial IPA</td>\n",
       "      <td>380</td>\n",
       "      <td>12.0</td>\n",
       "      <td>380</td>\n",
       "      <td>Blue Blood Brewing Company</td>\n",
       "      <td>Lincoln</td>\n",
       "      <td>NE</td>\n",
       "    </tr>\n",
       "    <tr>\n",
       "      <th>315</th>\n",
       "      <td>NaN</td>\n",
       "      <td>NaN</td>\n",
       "      <td>2490</td>\n",
       "      <td>Professor Black</td>\n",
       "      <td>American Stout</td>\n",
       "      <td>77</td>\n",
       "      <td>12.0</td>\n",
       "      <td>77</td>\n",
       "      <td>Blue Owl Brewing</td>\n",
       "      <td>Austin</td>\n",
       "      <td>TX</td>\n",
       "    </tr>\n",
       "    <tr>\n",
       "      <th>316</th>\n",
       "      <td>NaN</td>\n",
       "      <td>NaN</td>\n",
       "      <td>2489</td>\n",
       "      <td>Little Boss</td>\n",
       "      <td>American Pale Wheat Ale</td>\n",
       "      <td>77</td>\n",
       "      <td>12.0</td>\n",
       "      <td>77</td>\n",
       "      <td>Blue Owl Brewing</td>\n",
       "      <td>Austin</td>\n",
       "      <td>TX</td>\n",
       "    </tr>\n",
       "    <tr>\n",
       "      <th>317</th>\n",
       "      <td>NaN</td>\n",
       "      <td>NaN</td>\n",
       "      <td>2488</td>\n",
       "      <td>Van Dayum!</td>\n",
       "      <td>American Amber / Red Ale</td>\n",
       "      <td>77</td>\n",
       "      <td>12.0</td>\n",
       "      <td>77</td>\n",
       "      <td>Blue Owl Brewing</td>\n",
       "      <td>Austin</td>\n",
       "      <td>TX</td>\n",
       "    </tr>\n",
       "    <tr>\n",
       "      <th>...</th>\n",
       "      <td>...</td>\n",
       "      <td>...</td>\n",
       "      <td>...</td>\n",
       "      <td>...</td>\n",
       "      <td>...</td>\n",
       "      <td>...</td>\n",
       "      <td>...</td>\n",
       "      <td>...</td>\n",
       "      <td>...</td>\n",
       "      <td>...</td>\n",
       "      <td>...</td>\n",
       "    </tr>\n",
       "    <tr>\n",
       "      <th>2186</th>\n",
       "      <td>NaN</td>\n",
       "      <td>NaN</td>\n",
       "      <td>121</td>\n",
       "      <td>Cornstalker Dark Wheat</td>\n",
       "      <td>American Dark Wheat Ale</td>\n",
       "      <td>282</td>\n",
       "      <td>12.0</td>\n",
       "      <td>282</td>\n",
       "      <td>Thunderhead Brewing Company</td>\n",
       "      <td>Kearney</td>\n",
       "      <td>NE</td>\n",
       "    </tr>\n",
       "    <tr>\n",
       "      <th>2337</th>\n",
       "      <td>NaN</td>\n",
       "      <td>NaN</td>\n",
       "      <td>652</td>\n",
       "      <td>West Sixth IPA</td>\n",
       "      <td>American IPA</td>\n",
       "      <td>100</td>\n",
       "      <td>12.0</td>\n",
       "      <td>100</td>\n",
       "      <td>West Sixth Brewing</td>\n",
       "      <td>Lexington</td>\n",
       "      <td>KY</td>\n",
       "    </tr>\n",
       "    <tr>\n",
       "      <th>2345</th>\n",
       "      <td>NaN</td>\n",
       "      <td>NaN</td>\n",
       "      <td>2364</td>\n",
       "      <td>Royal Lager</td>\n",
       "      <td>American Pale Lager</td>\n",
       "      <td>132</td>\n",
       "      <td>16.0</td>\n",
       "      <td>132</td>\n",
       "      <td>Weston Brewing Company</td>\n",
       "      <td>Weston</td>\n",
       "      <td>MO</td>\n",
       "    </tr>\n",
       "    <tr>\n",
       "      <th>2347</th>\n",
       "      <td>NaN</td>\n",
       "      <td>NaN</td>\n",
       "      <td>2344</td>\n",
       "      <td>O’Malley’s Stout</td>\n",
       "      <td>English Stout</td>\n",
       "      <td>132</td>\n",
       "      <td>12.0</td>\n",
       "      <td>132</td>\n",
       "      <td>Weston Brewing Company</td>\n",
       "      <td>Weston</td>\n",
       "      <td>MO</td>\n",
       "    </tr>\n",
       "    <tr>\n",
       "      <th>2349</th>\n",
       "      <td>NaN</td>\n",
       "      <td>NaN</td>\n",
       "      <td>2342</td>\n",
       "      <td>O’Malley’s Irish Style Cream Ale</td>\n",
       "      <td>Cream Ale</td>\n",
       "      <td>132</td>\n",
       "      <td>12.0</td>\n",
       "      <td>132</td>\n",
       "      <td>Weston Brewing Company</td>\n",
       "      <td>Weston</td>\n",
       "      <td>MO</td>\n",
       "    </tr>\n",
       "  </tbody>\n",
       "</table>\n",
       "<p>62 rows × 11 columns</p>\n",
       "</div>"
      ],
      "text/plain": [
       "      abv  ibu    id                                    name  \\\n",
       "294   NaN  NaN  1541                     Double Play Pilsner   \n",
       "299   NaN  NaN  1025  N Street Drive-In 50th Anniversary IPA   \n",
       "315   NaN  NaN  2490                         Professor Black   \n",
       "316   NaN  NaN  2489                             Little Boss   \n",
       "317   NaN  NaN  2488                              Van Dayum!   \n",
       "...   ...  ...   ...                                     ...   \n",
       "2186  NaN  NaN   121                  Cornstalker Dark Wheat   \n",
       "2337  NaN  NaN   652                          West Sixth IPA   \n",
       "2345  NaN  NaN  2364                             Royal Lager   \n",
       "2347  NaN  NaN  2344                        O’Malley’s Stout   \n",
       "2349  NaN  NaN  2342        O’Malley’s Irish Style Cream Ale   \n",
       "\n",
       "                               style  brewery_id  ounces  brewery_idbrewery_  \\\n",
       "294                 American Pilsner         380    12.0                 380   \n",
       "299   American Double / Imperial IPA         380    12.0                 380   \n",
       "315                   American Stout          77    12.0                  77   \n",
       "316          American Pale Wheat Ale          77    12.0                  77   \n",
       "317         American Amber / Red Ale          77    12.0                  77   \n",
       "...                              ...         ...     ...                 ...   \n",
       "2186         American Dark Wheat Ale         282    12.0                 282   \n",
       "2337                    American IPA         100    12.0                 100   \n",
       "2345             American Pale Lager         132    16.0                 132   \n",
       "2347                   English Stout         132    12.0                 132   \n",
       "2349                       Cream Ale         132    12.0                 132   \n",
       "\n",
       "                     namebrewery_       city state  \n",
       "294    Blue Blood Brewing Company    Lincoln    NE  \n",
       "299    Blue Blood Brewing Company    Lincoln    NE  \n",
       "315              Blue Owl Brewing     Austin    TX  \n",
       "316              Blue Owl Brewing     Austin    TX  \n",
       "317              Blue Owl Brewing     Austin    TX  \n",
       "...                           ...        ...   ...  \n",
       "2186  Thunderhead Brewing Company    Kearney    NE  \n",
       "2337           West Sixth Brewing  Lexington    KY  \n",
       "2345       Weston Brewing Company     Weston    MO  \n",
       "2347       Weston Brewing Company     Weston    MO  \n",
       "2349       Weston Brewing Company     Weston    MO  \n",
       "\n",
       "[62 rows x 11 columns]"
      ]
     },
     "execution_count": 70,
     "metadata": {},
     "output_type": "execute_result"
    }
   ],
   "source": [
    "merged_df[(merged_df['abv'].isnull()) & (merged_df['ibu'].isnull())]"
   ]
  },
  {
   "cell_type": "code",
   "execution_count": 80,
   "id": "periodic-board",
   "metadata": {
    "execution": {
     "iopub.execute_input": "2021-03-19T01:17:26.554299Z",
     "iopub.status.busy": "2021-03-19T01:17:26.554299Z",
     "iopub.status.idle": "2021-03-19T01:17:26.560280Z",
     "shell.execute_reply": "2021-03-19T01:17:26.560280Z",
     "shell.execute_reply.started": "2021-03-19T01:17:26.554299Z"
    }
   },
   "outputs": [],
   "source": [
    "#drop missing values  \n",
    "drop_list = merged_df[merged_df.ibu.isnull()].index.to_list()"
   ]
  },
  {
   "cell_type": "code",
   "execution_count": 82,
   "id": "blocked-substitute",
   "metadata": {
    "execution": {
     "iopub.execute_input": "2021-03-19T01:17:58.700019Z",
     "iopub.status.busy": "2021-03-19T01:17:58.699019Z",
     "iopub.status.idle": "2021-03-19T01:17:58.732675Z",
     "shell.execute_reply": "2021-03-19T01:17:58.731685Z",
     "shell.execute_reply.started": "2021-03-19T01:17:58.700019Z"
    }
   },
   "outputs": [],
   "source": [
    "#drop missing values \n",
    "merged_df.drop(drop_list,axis=0, inplace=True)"
   ]
  },
  {
   "cell_type": "code",
   "execution_count": 83,
   "id": "warming-helping",
   "metadata": {
    "execution": {
     "iopub.execute_input": "2021-03-19T01:18:09.856112Z",
     "iopub.status.busy": "2021-03-19T01:18:09.856112Z",
     "iopub.status.idle": "2021-03-19T01:18:09.868080Z",
     "shell.execute_reply": "2021-03-19T01:18:09.867087Z",
     "shell.execute_reply.started": "2021-03-19T01:18:09.856112Z"
    }
   },
   "outputs": [
    {
     "data": {
      "text/plain": [
       "abv                   0\n",
       "ibu                   0\n",
       "id                    0\n",
       "name                  0\n",
       "style                 2\n",
       "brewery_id            0\n",
       "ounces                0\n",
       "brewery_idbrewery_    0\n",
       "namebrewery_          0\n",
       "city                  0\n",
       "state                 0\n",
       "dtype: int64"
      ]
     },
     "execution_count": 83,
     "metadata": {},
     "output_type": "execute_result"
    }
   ],
   "source": [
    "merged_df.isnull().sum()"
   ]
  },
  {
   "cell_type": "code",
   "execution_count": 87,
   "id": "partial-happening",
   "metadata": {
    "execution": {
     "iopub.execute_input": "2021-03-19T01:18:59.848840Z",
     "iopub.status.busy": "2021-03-19T01:18:59.847838Z",
     "iopub.status.idle": "2021-03-19T01:18:59.855816Z",
     "shell.execute_reply": "2021-03-19T01:18:59.854819Z",
     "shell.execute_reply.started": "2021-03-19T01:18:59.848840Z"
    }
   },
   "outputs": [],
   "source": [
    "# create drop list \n",
    "drop_2 = merged_df[merged_df['style'].isnull()].index"
   ]
  },
  {
   "cell_type": "code",
   "execution_count": 88,
   "id": "early-nudist",
   "metadata": {
    "execution": {
     "iopub.execute_input": "2021-03-19T01:19:21.699981Z",
     "iopub.status.busy": "2021-03-19T01:19:21.699981Z",
     "iopub.status.idle": "2021-03-19T01:19:21.705967Z",
     "shell.execute_reply": "2021-03-19T01:19:21.704969Z",
     "shell.execute_reply.started": "2021-03-19T01:19:21.699981Z"
    }
   },
   "outputs": [],
   "source": [
    "#drop missing values \n",
    "merged_df.drop(drop_2,axis=0,inplace=True)"
   ]
  },
  {
   "cell_type": "code",
   "execution_count": 89,
   "id": "entire-skill",
   "metadata": {
    "execution": {
     "iopub.execute_input": "2021-03-19T01:19:31.398989Z",
     "iopub.status.busy": "2021-03-19T01:19:31.398989Z",
     "iopub.status.idle": "2021-03-19T01:19:31.410476Z",
     "shell.execute_reply": "2021-03-19T01:19:31.409483Z",
     "shell.execute_reply.started": "2021-03-19T01:19:31.398989Z"
    }
   },
   "outputs": [
    {
     "data": {
      "text/plain": [
       "abv                   0\n",
       "ibu                   0\n",
       "id                    0\n",
       "name                  0\n",
       "style                 0\n",
       "brewery_id            0\n",
       "ounces                0\n",
       "brewery_idbrewery_    0\n",
       "namebrewery_          0\n",
       "city                  0\n",
       "state                 0\n",
       "dtype: int64"
      ]
     },
     "execution_count": 89,
     "metadata": {},
     "output_type": "execute_result"
    }
   ],
   "source": [
    "#review \n",
    "merged_df.isnull().sum()"
   ]
  },
  {
   "cell_type": "code",
   "execution_count": 90,
   "id": "removable-alexandria",
   "metadata": {
    "execution": {
     "iopub.execute_input": "2021-03-19T01:19:38.980184Z",
     "iopub.status.busy": "2021-03-19T01:19:38.980184Z",
     "iopub.status.idle": "2021-03-19T01:19:39.025641Z",
     "shell.execute_reply": "2021-03-19T01:19:39.024642Z",
     "shell.execute_reply.started": "2021-03-19T01:19:38.980184Z"
    }
   },
   "outputs": [
    {
     "name": "stdout",
     "output_type": "stream",
     "text": [
      "<class 'pandas.core.frame.DataFrame'>\n",
      "Int64Index: 1403 entries, 14 to 2408\n",
      "Data columns (total 11 columns):\n",
      " #   Column              Non-Null Count  Dtype  \n",
      "---  ------              --------------  -----  \n",
      " 0   abv                 1403 non-null   float64\n",
      " 1   ibu                 1403 non-null   float64\n",
      " 2   id                  1403 non-null   int64  \n",
      " 3   name                1403 non-null   object \n",
      " 4   style               1403 non-null   object \n",
      " 5   brewery_id          1403 non-null   int64  \n",
      " 6   ounces              1403 non-null   float64\n",
      " 7   brewery_idbrewery_  1403 non-null   int64  \n",
      " 8   namebrewery_        1403 non-null   object \n",
      " 9   city                1403 non-null   object \n",
      " 10  state               1403 non-null   object \n",
      "dtypes: float64(3), int64(3), object(5)\n",
      "memory usage: 131.5+ KB\n"
     ]
    }
   ],
   "source": [
    "#review \n",
    "merged_df.info()"
   ]
  },
  {
   "cell_type": "code",
   "execution_count": 91,
   "id": "frank-protest",
   "metadata": {
    "execution": {
     "iopub.execute_input": "2021-03-19T01:25:21.970362Z",
     "iopub.status.busy": "2021-03-19T01:25:21.970362Z",
     "iopub.status.idle": "2021-03-19T01:25:21.982673Z",
     "shell.execute_reply": "2021-03-19T01:25:21.981672Z",
     "shell.execute_reply.started": "2021-03-19T01:25:21.970362Z"
    }
   },
   "outputs": [
    {
     "data": {
      "text/plain": [
       "90"
      ]
     },
     "execution_count": 91,
     "metadata": {},
     "output_type": "execute_result"
    },
    {
     "data": {
      "text/plain": [
       "array(['American Pale Ale (APA)', 'American Barleywine', 'Winter Warmer',\n",
       "       'Fruit / Vegetable Beer', 'American IPA', 'English Strong Ale',\n",
       "       'American Double / Imperial IPA', 'American Black Ale',\n",
       "       'Belgian Dark Ale', 'Berliner Weissbier', 'American Blonde Ale',\n",
       "       'American Pale Wheat Ale', 'Kölsch', 'English Pale Ale',\n",
       "       'American Amber / Red Lager', 'American Brown Ale',\n",
       "       'English Barleywine', 'Milk / Sweet Stout', 'German Pilsener',\n",
       "       'Pumpkin Ale', 'Belgian Pale Ale', 'American Pilsner',\n",
       "       'Saison / Farmhouse Ale', 'English Brown Ale', 'American Stout',\n",
       "       'Altbier', 'Oatmeal Stout', 'Cream Ale',\n",
       "       'American Amber / Red Ale', 'Vienna Lager', 'American Porter',\n",
       "       'American Double / Imperial Stout', 'Gose', 'Munich Helles Lager',\n",
       "       'Witbier', 'Märzen / Oktoberfest', 'Tripel', 'Rye Beer',\n",
       "       'American Pale Lager', 'Euro Dark Lager',\n",
       "       'California Common / Steam Beer', 'Schwarzbier', 'Hefeweizen',\n",
       "       'Other', 'English India Pale Ale (IPA)',\n",
       "       'Extra Special / Strong Bitter (ESB)', 'American Strong Ale',\n",
       "       'Czech Pilsener', 'Foreign / Export Stout', 'Euro Pale Lager',\n",
       "       'American White IPA', 'Irish Dry Stout', 'Scotch Ale / Wee Heavy',\n",
       "       'Radler', 'Irish Red Ale', 'Herbed / Spiced Beer',\n",
       "       'American Adjunct Lager', 'Scottish Ale', 'Smoked Beer', 'Bock',\n",
       "       'Belgian Strong Pale Ale', 'English Pale Mild Ale',\n",
       "       'Abbey Single Ale', 'Belgian IPA', 'Roggenbier',\n",
       "       'Dortmunder / Export Lager', 'American Dark Wheat Ale',\n",
       "       'English Stout', 'English Dark Mild Ale', 'Russian Imperial Stout',\n",
       "       'Keller Bier / Zwickel Bier', 'American India Pale Lager',\n",
       "       'Doppelbock', 'Munich Dunkel Lager', 'Maibock / Helles Bock',\n",
       "       'Wheat Ale', 'Light Lager', 'Dunkelweizen', 'Baltic Porter',\n",
       "       'English Bitter', 'Belgian Strong Dark Ale', 'Dubbel',\n",
       "       'Chile Beer', 'Grisette', 'Bière de Garde', 'Old Ale',\n",
       "       'Flanders Oud Bruin', 'Quadrupel (Quad)', 'American Wild Ale',\n",
       "       'American Double / Imperial Pilsner'], dtype=object)"
      ]
     },
     "execution_count": 91,
     "metadata": {},
     "output_type": "execute_result"
    }
   ],
   "source": [
    "# review style column \n",
    "merged_df['style'].nunique()\n",
    "merged_df['style'].unique()"
   ]
  },
  {
   "cell_type": "code",
   "execution_count": 92,
   "id": "abstract-vertical",
   "metadata": {
    "execution": {
     "iopub.execute_input": "2021-03-19T01:31:47.772735Z",
     "iopub.status.busy": "2021-03-19T01:31:47.771793Z",
     "iopub.status.idle": "2021-03-19T01:31:47.807271Z",
     "shell.execute_reply": "2021-03-19T01:31:47.806274Z",
     "shell.execute_reply.started": "2021-03-19T01:31:47.772735Z"
    }
   },
   "outputs": [
    {
     "data": {
      "text/html": [
       "<div>\n",
       "<style scoped>\n",
       "    .dataframe tbody tr th:only-of-type {\n",
       "        vertical-align: middle;\n",
       "    }\n",
       "\n",
       "    .dataframe tbody tr th {\n",
       "        vertical-align: top;\n",
       "    }\n",
       "\n",
       "    .dataframe thead th {\n",
       "        text-align: right;\n",
       "    }\n",
       "</style>\n",
       "<table border=\"1\" class=\"dataframe\">\n",
       "  <thead>\n",
       "    <tr style=\"text-align: right;\">\n",
       "      <th></th>\n",
       "      <th>abv</th>\n",
       "      <th>ibu</th>\n",
       "      <th>id</th>\n",
       "      <th>name</th>\n",
       "      <th>style</th>\n",
       "      <th>brewery_id</th>\n",
       "      <th>ounces</th>\n",
       "      <th>brewery_idbrewery_</th>\n",
       "      <th>namebrewery_</th>\n",
       "      <th>city</th>\n",
       "      <th>state</th>\n",
       "    </tr>\n",
       "  </thead>\n",
       "  <tbody>\n",
       "    <tr>\n",
       "      <th>14</th>\n",
       "      <td>0.061</td>\n",
       "      <td>60.0</td>\n",
       "      <td>1979</td>\n",
       "      <td>Bitter Bitch</td>\n",
       "      <td>American Pale Ale (APA)</td>\n",
       "      <td>177</td>\n",
       "      <td>12.0</td>\n",
       "      <td>177</td>\n",
       "      <td>18th Street Brewery</td>\n",
       "      <td>Gary</td>\n",
       "      <td>IN</td>\n",
       "    </tr>\n",
       "    <tr>\n",
       "      <th>21</th>\n",
       "      <td>0.099</td>\n",
       "      <td>92.0</td>\n",
       "      <td>1036</td>\n",
       "      <td>Lower De Boom</td>\n",
       "      <td>American Barleywine</td>\n",
       "      <td>368</td>\n",
       "      <td>8.4</td>\n",
       "      <td>368</td>\n",
       "      <td>21st Amendment Brewery</td>\n",
       "      <td>San Francisco</td>\n",
       "      <td>CA</td>\n",
       "    </tr>\n",
       "    <tr>\n",
       "      <th>22</th>\n",
       "      <td>0.079</td>\n",
       "      <td>45.0</td>\n",
       "      <td>1024</td>\n",
       "      <td>Fireside Chat</td>\n",
       "      <td>Winter Warmer</td>\n",
       "      <td>368</td>\n",
       "      <td>12.0</td>\n",
       "      <td>368</td>\n",
       "      <td>21st Amendment Brewery</td>\n",
       "      <td>San Francisco</td>\n",
       "      <td>CA</td>\n",
       "    </tr>\n",
       "    <tr>\n",
       "      <th>24</th>\n",
       "      <td>0.044</td>\n",
       "      <td>42.0</td>\n",
       "      <td>876</td>\n",
       "      <td>Bitter American</td>\n",
       "      <td>American Pale Ale (APA)</td>\n",
       "      <td>368</td>\n",
       "      <td>12.0</td>\n",
       "      <td>368</td>\n",
       "      <td>21st Amendment Brewery</td>\n",
       "      <td>San Francisco</td>\n",
       "      <td>CA</td>\n",
       "    </tr>\n",
       "    <tr>\n",
       "      <th>25</th>\n",
       "      <td>0.049</td>\n",
       "      <td>17.0</td>\n",
       "      <td>802</td>\n",
       "      <td>Hell or High Watermelon Wheat (2009)</td>\n",
       "      <td>Fruit / Vegetable Beer</td>\n",
       "      <td>368</td>\n",
       "      <td>12.0</td>\n",
       "      <td>368</td>\n",
       "      <td>21st Amendment Brewery</td>\n",
       "      <td>San Francisco</td>\n",
       "      <td>CA</td>\n",
       "    </tr>\n",
       "  </tbody>\n",
       "</table>\n",
       "</div>"
      ],
      "text/plain": [
       "      abv   ibu    id                                  name  \\\n",
       "14  0.061  60.0  1979                          Bitter Bitch   \n",
       "21  0.099  92.0  1036                         Lower De Boom   \n",
       "22  0.079  45.0  1024                         Fireside Chat   \n",
       "24  0.044  42.0   876                       Bitter American   \n",
       "25  0.049  17.0   802  Hell or High Watermelon Wheat (2009)   \n",
       "\n",
       "                      style  brewery_id  ounces  brewery_idbrewery_  \\\n",
       "14  American Pale Ale (APA)         177    12.0                 177   \n",
       "21      American Barleywine         368     8.4                 368   \n",
       "22            Winter Warmer         368    12.0                 368   \n",
       "24  American Pale Ale (APA)         368    12.0                 368   \n",
       "25   Fruit / Vegetable Beer         368    12.0                 368   \n",
       "\n",
       "              namebrewery_           city state  \n",
       "14     18th Street Brewery           Gary    IN  \n",
       "21  21st Amendment Brewery  San Francisco    CA  \n",
       "22  21st Amendment Brewery  San Francisco    CA  \n",
       "24  21st Amendment Brewery  San Francisco    CA  \n",
       "25  21st Amendment Brewery  San Francisco    CA  "
      ]
     },
     "execution_count": 92,
     "metadata": {},
     "output_type": "execute_result"
    }
   ],
   "source": [
    "merged_df.head()"
   ]
  },
  {
   "cell_type": "code",
   "execution_count": 94,
   "id": "overall-drive",
   "metadata": {
    "execution": {
     "iopub.execute_input": "2021-03-19T01:32:42.317185Z",
     "iopub.status.busy": "2021-03-19T01:32:42.317185Z",
     "iopub.status.idle": "2021-03-19T01:32:42.345114Z",
     "shell.execute_reply": "2021-03-19T01:32:42.344113Z",
     "shell.execute_reply.started": "2021-03-19T01:32:42.317185Z"
    }
   },
   "outputs": [],
   "source": [
    "merged_df.to_csv('beer_data.csv',index=False)"
   ]
  },
  {
   "cell_type": "code",
   "execution_count": null,
   "id": "material-throat",
   "metadata": {},
   "outputs": [],
   "source": []
  }
 ],
 "metadata": {
  "kernelspec": {
   "display_name": "PythonData",
   "language": "python",
   "name": "pythondata"
  },
  "language_info": {
   "codemirror_mode": {
    "name": "ipython",
    "version": 3
   },
   "file_extension": ".py",
   "mimetype": "text/x-python",
   "name": "python",
   "nbconvert_exporter": "python",
   "pygments_lexer": "ipython3",
   "version": "3.7.9"
  }
 },
 "nbformat": 4,
 "nbformat_minor": 5
}
