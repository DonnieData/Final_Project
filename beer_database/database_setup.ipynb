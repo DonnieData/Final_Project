{
 "cells": [
  {
   "cell_type": "code",
   "execution_count": 2,
   "id": "capital-alloy",
   "metadata": {
    "execution": {
     "iopub.execute_input": "2021-03-20T17:20:40.437028Z",
     "iopub.status.busy": "2021-03-20T17:20:40.437028Z",
     "iopub.status.idle": "2021-03-20T17:20:40.453946Z",
     "shell.execute_reply": "2021-03-20T17:20:40.453946Z",
     "shell.execute_reply.started": "2021-03-20T17:20:40.437028Z"
    }
   },
   "outputs": [],
   "source": [
    "#import dependencies \n",
    "import pandas as pd \n",
    "from sqlalchemy import create_engine\n",
    "import psycopg2\n",
    "import config "
   ]
  },
  {
   "cell_type": "code",
   "execution_count": 74,
   "id": "changing-darkness",
   "metadata": {
    "execution": {
     "iopub.execute_input": "2021-03-20T18:57:16.777166Z",
     "iopub.status.busy": "2021-03-20T18:57:16.777166Z",
     "iopub.status.idle": "2021-03-20T18:57:16.795635Z",
     "shell.execute_reply": "2021-03-20T18:57:16.795635Z",
     "shell.execute_reply.started": "2021-03-20T18:57:16.777166Z"
    }
   },
   "outputs": [
    {
     "data": {
      "text/html": [
       "<div>\n",
       "<style scoped>\n",
       "    .dataframe tbody tr th:only-of-type {\n",
       "        vertical-align: middle;\n",
       "    }\n",
       "\n",
       "    .dataframe tbody tr th {\n",
       "        vertical-align: top;\n",
       "    }\n",
       "\n",
       "    .dataframe thead th {\n",
       "        text-align: right;\n",
       "    }\n",
       "</style>\n",
       "<table border=\"1\" class=\"dataframe\">\n",
       "  <thead>\n",
       "    <tr style=\"text-align: right;\">\n",
       "      <th></th>\n",
       "      <th>abv</th>\n",
       "      <th>ibu</th>\n",
       "      <th>id</th>\n",
       "      <th>name</th>\n",
       "      <th>style</th>\n",
       "      <th>brewery_id</th>\n",
       "      <th>ounces</th>\n",
       "      <th>brewery_idbrewery_</th>\n",
       "      <th>namebrewery_</th>\n",
       "      <th>city</th>\n",
       "      <th>state</th>\n",
       "    </tr>\n",
       "  </thead>\n",
       "  <tbody>\n",
       "    <tr>\n",
       "      <th>0</th>\n",
       "      <td>0.061</td>\n",
       "      <td>60.0</td>\n",
       "      <td>1979</td>\n",
       "      <td>Bitter Bitch</td>\n",
       "      <td>American Pale Ale (APA)</td>\n",
       "      <td>177</td>\n",
       "      <td>12.0</td>\n",
       "      <td>177</td>\n",
       "      <td>18th Street Brewery</td>\n",
       "      <td>Gary</td>\n",
       "      <td>IN</td>\n",
       "    </tr>\n",
       "    <tr>\n",
       "      <th>1</th>\n",
       "      <td>0.099</td>\n",
       "      <td>92.0</td>\n",
       "      <td>1036</td>\n",
       "      <td>Lower De Boom</td>\n",
       "      <td>American Barleywine</td>\n",
       "      <td>368</td>\n",
       "      <td>8.4</td>\n",
       "      <td>368</td>\n",
       "      <td>21st Amendment Brewery</td>\n",
       "      <td>San Francisco</td>\n",
       "      <td>CA</td>\n",
       "    </tr>\n",
       "  </tbody>\n",
       "</table>\n",
       "</div>"
      ],
      "text/plain": [
       "     abv   ibu    id           name                    style  brewery_id  \\\n",
       "0  0.061  60.0  1979   Bitter Bitch  American Pale Ale (APA)         177   \n",
       "1  0.099  92.0  1036  Lower De Boom      American Barleywine         368   \n",
       "\n",
       "   ounces  brewery_idbrewery_            namebrewery_           city state  \n",
       "0    12.0                 177     18th Street Brewery           Gary    IN  \n",
       "1     8.4                 368  21st Amendment Brewery  San Francisco    CA  "
      ]
     },
     "execution_count": 74,
     "metadata": {},
     "output_type": "execute_result"
    }
   ],
   "source": [
    "# read in merged data from repo \n",
    "beer_df = pd.read_csv('beer_data.csv')\n",
    "beer_df.head(2)"
   ]
  },
  {
   "cell_type": "code",
   "execution_count": 75,
   "id": "tutorial-squad",
   "metadata": {
    "execution": {
     "iopub.execute_input": "2021-03-20T19:08:45.712969Z",
     "iopub.status.busy": "2021-03-20T19:08:45.711972Z",
     "iopub.status.idle": "2021-03-20T19:08:46.454987Z",
     "shell.execute_reply": "2021-03-20T19:08:46.454987Z",
     "shell.execute_reply.started": "2021-03-20T19:08:45.712969Z"
    }
   },
   "outputs": [],
   "source": [
    "#psycopg2 connection to aws through postgres \n",
    "conn = psycopg2.connect(database='postgres', user=config.user, password=config.db_password, host=config.host)\n",
    "cur = conn.cursor()\n",
    "\n",
    "cur.execute('''CREATE TABLE beer_data ( \n",
    "                abv DOUBLE PRECISION, \n",
    "                ibu DOUBLE PRECISION, \n",
    "                id TEXT, \n",
    "                name TEXT, \n",
    "                style TEXT, \n",
    "                brewery_id TEXT , \n",
    "                ounces DOUBLE PRECISION,\n",
    "                brewery_idbrewery_ INTEGER, \n",
    "                namebrewery_ TEXT, \n",
    "                city TEXT, \n",
    "                state TEXT\n",
    "           );''')\n",
    "\n",
    "conn.commit()\n",
    "conn.close()"
   ]
  },
  {
   "cell_type": "code",
   "execution_count": 79,
   "id": "least-remains",
   "metadata": {
    "execution": {
     "iopub.execute_input": "2021-03-20T19:22:45.464831Z",
     "iopub.status.busy": "2021-03-20T19:22:45.464831Z",
     "iopub.status.idle": "2021-03-20T19:22:45.470813Z",
     "shell.execute_reply": "2021-03-20T19:22:45.469853Z",
     "shell.execute_reply.started": "2021-03-20T19:22:45.464831Z"
    }
   },
   "outputs": [],
   "source": [
    "#sqlalcehmy database connection\n",
    "database = f'postgres://{config.user}:{config.db_password}@{config.host}/postgres'\n",
    "engine = create_engine(database)"
   ]
  },
  {
   "cell_type": "code",
   "execution_count": 77,
   "id": "outstanding-chest",
   "metadata": {
    "execution": {
     "iopub.execute_input": "2021-03-20T19:09:06.126155Z",
     "iopub.status.busy": "2021-03-20T19:09:06.125158Z",
     "iopub.status.idle": "2021-03-20T19:09:07.657333Z",
     "shell.execute_reply": "2021-03-20T19:09:07.657333Z",
     "shell.execute_reply.started": "2021-03-20T19:09:06.126155Z"
    }
   },
   "outputs": [
    {
     "data": {
      "text/html": [
       "<div>\n",
       "<style scoped>\n",
       "    .dataframe tbody tr th:only-of-type {\n",
       "        vertical-align: middle;\n",
       "    }\n",
       "\n",
       "    .dataframe tbody tr th {\n",
       "        vertical-align: top;\n",
       "    }\n",
       "\n",
       "    .dataframe thead th {\n",
       "        text-align: right;\n",
       "    }\n",
       "</style>\n",
       "<table border=\"1\" class=\"dataframe\">\n",
       "  <thead>\n",
       "    <tr style=\"text-align: right;\">\n",
       "      <th></th>\n",
       "      <th>abv</th>\n",
       "      <th>ibu</th>\n",
       "      <th>id</th>\n",
       "      <th>name</th>\n",
       "      <th>style</th>\n",
       "      <th>brewery_id</th>\n",
       "      <th>ounces</th>\n",
       "      <th>brewery_idbrewery_</th>\n",
       "      <th>namebrewery_</th>\n",
       "      <th>city</th>\n",
       "      <th>state</th>\n",
       "    </tr>\n",
       "  </thead>\n",
       "  <tbody>\n",
       "  </tbody>\n",
       "</table>\n",
       "</div>"
      ],
      "text/plain": [
       "Empty DataFrame\n",
       "Columns: [abv, ibu, id, name, style, brewery_id, ounces, brewery_idbrewery_, namebrewery_, city, state]\n",
       "Index: []"
      ]
     },
     "execution_count": 77,
     "metadata": {},
     "output_type": "execute_result"
    }
   ],
   "source": [
    "# testing querying database \n",
    "pd.read_sql_query('SELECT * FROM beer_data' ,con=engine)"
   ]
  },
  {
   "cell_type": "code",
   "execution_count": 80,
   "id": "innocent-friend",
   "metadata": {
    "execution": {
     "iopub.execute_input": "2021-03-20T19:23:04.514032Z",
     "iopub.status.busy": "2021-03-20T19:23:04.514032Z",
     "iopub.status.idle": "2021-03-20T19:24:30.941805Z",
     "shell.execute_reply": "2021-03-20T19:24:30.939810Z",
     "shell.execute_reply.started": "2021-03-20T19:23:04.514032Z"
    }
   },
   "outputs": [],
   "source": [
    "beer_data.to_sql(name='beer_data', if_exists='append', index=False, con=engine, chunksize=500)"
   ]
  },
  {
   "cell_type": "code",
   "execution_count": 82,
   "id": "controversial-marketplace",
   "metadata": {
    "execution": {
     "iopub.execute_input": "2021-03-20T19:27:53.486265Z",
     "iopub.status.busy": "2021-03-20T19:27:53.486265Z",
     "iopub.status.idle": "2021-03-20T19:27:53.707153Z",
     "shell.execute_reply": "2021-03-20T19:27:53.706196Z",
     "shell.execute_reply.started": "2021-03-20T19:27:53.486265Z"
    }
   },
   "outputs": [
    {
     "data": {
      "text/html": [
       "<div>\n",
       "<style scoped>\n",
       "    .dataframe tbody tr th:only-of-type {\n",
       "        vertical-align: middle;\n",
       "    }\n",
       "\n",
       "    .dataframe tbody tr th {\n",
       "        vertical-align: top;\n",
       "    }\n",
       "\n",
       "    .dataframe thead th {\n",
       "        text-align: right;\n",
       "    }\n",
       "</style>\n",
       "<table border=\"1\" class=\"dataframe\">\n",
       "  <thead>\n",
       "    <tr style=\"text-align: right;\">\n",
       "      <th></th>\n",
       "      <th>abv</th>\n",
       "      <th>ibu</th>\n",
       "      <th>id</th>\n",
       "      <th>name</th>\n",
       "      <th>style</th>\n",
       "      <th>brewery_id</th>\n",
       "      <th>ounces</th>\n",
       "      <th>brewery_idbrewery_</th>\n",
       "      <th>namebrewery_</th>\n",
       "      <th>city</th>\n",
       "      <th>state</th>\n",
       "    </tr>\n",
       "  </thead>\n",
       "  <tbody>\n",
       "    <tr>\n",
       "      <th>0</th>\n",
       "      <td>0.061</td>\n",
       "      <td>60.0</td>\n",
       "      <td>1979</td>\n",
       "      <td>Bitter Bitch</td>\n",
       "      <td>American Pale Ale (APA)</td>\n",
       "      <td>177</td>\n",
       "      <td>12.0</td>\n",
       "      <td>177</td>\n",
       "      <td>18th Street Brewery</td>\n",
       "      <td>Gary</td>\n",
       "      <td>IN</td>\n",
       "    </tr>\n",
       "    <tr>\n",
       "      <th>1</th>\n",
       "      <td>0.099</td>\n",
       "      <td>92.0</td>\n",
       "      <td>1036</td>\n",
       "      <td>Lower De Boom</td>\n",
       "      <td>American Barleywine</td>\n",
       "      <td>368</td>\n",
       "      <td>8.4</td>\n",
       "      <td>368</td>\n",
       "      <td>21st Amendment Brewery</td>\n",
       "      <td>San Francisco</td>\n",
       "      <td>CA</td>\n",
       "    </tr>\n",
       "    <tr>\n",
       "      <th>2</th>\n",
       "      <td>0.079</td>\n",
       "      <td>45.0</td>\n",
       "      <td>1024</td>\n",
       "      <td>Fireside Chat</td>\n",
       "      <td>Winter Warmer</td>\n",
       "      <td>368</td>\n",
       "      <td>12.0</td>\n",
       "      <td>368</td>\n",
       "      <td>21st Amendment Brewery</td>\n",
       "      <td>San Francisco</td>\n",
       "      <td>CA</td>\n",
       "    </tr>\n",
       "    <tr>\n",
       "      <th>3</th>\n",
       "      <td>0.044</td>\n",
       "      <td>42.0</td>\n",
       "      <td>876</td>\n",
       "      <td>Bitter American</td>\n",
       "      <td>American Pale Ale (APA)</td>\n",
       "      <td>368</td>\n",
       "      <td>12.0</td>\n",
       "      <td>368</td>\n",
       "      <td>21st Amendment Brewery</td>\n",
       "      <td>San Francisco</td>\n",
       "      <td>CA</td>\n",
       "    </tr>\n",
       "    <tr>\n",
       "      <th>4</th>\n",
       "      <td>0.049</td>\n",
       "      <td>17.0</td>\n",
       "      <td>802</td>\n",
       "      <td>Hell or High Watermelon Wheat (2009)</td>\n",
       "      <td>Fruit / Vegetable Beer</td>\n",
       "      <td>368</td>\n",
       "      <td>12.0</td>\n",
       "      <td>368</td>\n",
       "      <td>21st Amendment Brewery</td>\n",
       "      <td>San Francisco</td>\n",
       "      <td>CA</td>\n",
       "    </tr>\n",
       "    <tr>\n",
       "      <th>5</th>\n",
       "      <td>0.049</td>\n",
       "      <td>17.0</td>\n",
       "      <td>801</td>\n",
       "      <td>Hell or High Watermelon Wheat (2009)</td>\n",
       "      <td>Fruit / Vegetable Beer</td>\n",
       "      <td>368</td>\n",
       "      <td>12.0</td>\n",
       "      <td>368</td>\n",
       "      <td>21st Amendment Brewery</td>\n",
       "      <td>San Francisco</td>\n",
       "      <td>CA</td>\n",
       "    </tr>\n",
       "    <tr>\n",
       "      <th>6</th>\n",
       "      <td>0.049</td>\n",
       "      <td>17.0</td>\n",
       "      <td>800</td>\n",
       "      <td>21st Amendment Watermelon Wheat Beer (2006)</td>\n",
       "      <td>Fruit / Vegetable Beer</td>\n",
       "      <td>368</td>\n",
       "      <td>12.0</td>\n",
       "      <td>368</td>\n",
       "      <td>21st Amendment Brewery</td>\n",
       "      <td>San Francisco</td>\n",
       "      <td>CA</td>\n",
       "    </tr>\n",
       "  </tbody>\n",
       "</table>\n",
       "</div>"
      ],
      "text/plain": [
       "     abv   ibu    id                                         name  \\\n",
       "0  0.061  60.0  1979                                 Bitter Bitch   \n",
       "1  0.099  92.0  1036                                Lower De Boom   \n",
       "2  0.079  45.0  1024                                Fireside Chat   \n",
       "3  0.044  42.0   876                              Bitter American   \n",
       "4  0.049  17.0   802         Hell or High Watermelon Wheat (2009)   \n",
       "5  0.049  17.0   801         Hell or High Watermelon Wheat (2009)   \n",
       "6  0.049  17.0   800  21st Amendment Watermelon Wheat Beer (2006)   \n",
       "\n",
       "                     style brewery_id  ounces  brewery_idbrewery_  \\\n",
       "0  American Pale Ale (APA)        177    12.0                 177   \n",
       "1      American Barleywine        368     8.4                 368   \n",
       "2            Winter Warmer        368    12.0                 368   \n",
       "3  American Pale Ale (APA)        368    12.0                 368   \n",
       "4   Fruit / Vegetable Beer        368    12.0                 368   \n",
       "5   Fruit / Vegetable Beer        368    12.0                 368   \n",
       "6   Fruit / Vegetable Beer        368    12.0                 368   \n",
       "\n",
       "             namebrewery_           city state  \n",
       "0     18th Street Brewery           Gary    IN  \n",
       "1  21st Amendment Brewery  San Francisco    CA  \n",
       "2  21st Amendment Brewery  San Francisco    CA  \n",
       "3  21st Amendment Brewery  San Francisco    CA  \n",
       "4  21st Amendment Brewery  San Francisco    CA  \n",
       "5  21st Amendment Brewery  San Francisco    CA  \n",
       "6  21st Amendment Brewery  San Francisco    CA  "
      ]
     },
     "execution_count": 82,
     "metadata": {},
     "output_type": "execute_result"
    }
   ],
   "source": [
    "# querying first 7 rows \n",
    "sample_data = pd.read_sql_query('''SELECT * FROM beer_data \n",
    "                                     LIMIT 7;''', con=engine)\n",
    "sample_data"
   ]
  },
  {
   "cell_type": "code",
   "execution_count": null,
   "id": "acknowledged-inquiry",
   "metadata": {},
   "outputs": [],
   "source": []
  }
 ],
 "metadata": {
  "kernelspec": {
   "display_name": "PythonData",
   "language": "python",
   "name": "pythondata"
  },
  "language_info": {
   "codemirror_mode": {
    "name": "ipython",
    "version": 3
   },
   "file_extension": ".py",
   "mimetype": "text/x-python",
   "name": "python",
   "nbconvert_exporter": "python",
   "pygments_lexer": "ipython3",
   "version": "3.7.9"
  }
 },
 "nbformat": 4,
 "nbformat_minor": 5
}
