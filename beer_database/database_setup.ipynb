{
 "cells": [
  {
   "cell_type": "code",
   "execution_count": 2,
   "id": "seasonal-event",
   "metadata": {
    "execution": {
     "iopub.execute_input": "2021-03-20T17:20:40.437028Z",
     "iopub.status.busy": "2021-03-20T17:20:40.437028Z",
     "iopub.status.idle": "2021-03-20T17:20:40.453946Z",
     "shell.execute_reply": "2021-03-20T17:20:40.453946Z",
     "shell.execute_reply.started": "2021-03-20T17:20:40.437028Z"
    }
   },
   "outputs": [],
   "source": [
    "#import dependencies \n",
    "import pandas as pd \n",
    "from sqlalchemy import create_engine\n",
    "import psycopg2\n",
    "import config "
   ]
  },
  {
   "cell_type": "code",
   "execution_count": 71,
   "id": "passing-quilt",
   "metadata": {
    "execution": {
     "iopub.execute_input": "2021-03-20T18:36:13.996360Z",
     "iopub.status.busy": "2021-03-20T18:36:13.996360Z",
     "iopub.status.idle": "2021-03-20T18:36:14.046229Z",
     "shell.execute_reply": "2021-03-20T18:36:14.045230Z",
     "shell.execute_reply.started": "2021-03-20T18:36:13.996360Z"
    }
   },
   "outputs": [
    {
     "data": {
      "text/html": [
       "<div>\n",
       "<style scoped>\n",
       "    .dataframe tbody tr th:only-of-type {\n",
       "        vertical-align: middle;\n",
       "    }\n",
       "\n",
       "    .dataframe tbody tr th {\n",
       "        vertical-align: top;\n",
       "    }\n",
       "\n",
       "    .dataframe thead th {\n",
       "        text-align: right;\n",
       "    }\n",
       "</style>\n",
       "<table border=\"1\" class=\"dataframe\">\n",
       "  <thead>\n",
       "    <tr style=\"text-align: right;\">\n",
       "      <th></th>\n",
       "      <th>abv</th>\n",
       "      <th>ibu</th>\n",
       "      <th>id</th>\n",
       "      <th>name</th>\n",
       "      <th>style</th>\n",
       "      <th>brewery_id</th>\n",
       "      <th>ounces</th>\n",
       "      <th>brewery_idbrewery_</th>\n",
       "      <th>namebrewery_</th>\n",
       "      <th>city</th>\n",
       "      <th>state</th>\n",
       "    </tr>\n",
       "  </thead>\n",
       "  <tbody>\n",
       "    <tr>\n",
       "      <th>0</th>\n",
       "      <td>0.061</td>\n",
       "      <td>60.0</td>\n",
       "      <td>1979</td>\n",
       "      <td>Bitter Bitch</td>\n",
       "      <td>American Pale Ale (APA)</td>\n",
       "      <td>177</td>\n",
       "      <td>12.0</td>\n",
       "      <td>177</td>\n",
       "      <td>18th Street Brewery</td>\n",
       "      <td>Gary</td>\n",
       "      <td>IN</td>\n",
       "    </tr>\n",
       "    <tr>\n",
       "      <th>1</th>\n",
       "      <td>0.099</td>\n",
       "      <td>92.0</td>\n",
       "      <td>1036</td>\n",
       "      <td>Lower De Boom</td>\n",
       "      <td>American Barleywine</td>\n",
       "      <td>368</td>\n",
       "      <td>8.4</td>\n",
       "      <td>368</td>\n",
       "      <td>21st Amendment Brewery</td>\n",
       "      <td>San Francisco</td>\n",
       "      <td>CA</td>\n",
       "    </tr>\n",
       "  </tbody>\n",
       "</table>\n",
       "</div>"
      ],
      "text/plain": [
       "     abv   ibu    id           name                    style  brewery_id  \\\n",
       "0  0.061  60.0  1979   Bitter Bitch  American Pale Ale (APA)         177   \n",
       "1  0.099  92.0  1036  Lower De Boom      American Barleywine         368   \n",
       "\n",
       "   ounces  brewery_idbrewery_            namebrewery_           city state  \n",
       "0    12.0                 177     18th Street Brewery           Gary    IN  \n",
       "1     8.4                 368  21st Amendment Brewery  San Francisco    CA  "
      ]
     },
     "execution_count": 71,
     "metadata": {},
     "output_type": "execute_result"
    },
    {
     "name": "stdout",
     "output_type": "stream",
     "text": [
      "<class 'pandas.core.frame.DataFrame'>\n",
      "RangeIndex: 1403 entries, 0 to 1402\n",
      "Data columns (total 11 columns):\n",
      " #   Column              Non-Null Count  Dtype  \n",
      "---  ------              --------------  -----  \n",
      " 0   abv                 1403 non-null   float64\n",
      " 1   ibu                 1403 non-null   float64\n",
      " 2   id                  1403 non-null   int64  \n",
      " 3   name                1403 non-null   object \n",
      " 4   style               1403 non-null   object \n",
      " 5   brewery_id          1403 non-null   int64  \n",
      " 6   ounces              1403 non-null   float64\n",
      " 7   brewery_idbrewery_  1403 non-null   int64  \n",
      " 8   namebrewery_        1403 non-null   object \n",
      " 9   city                1403 non-null   object \n",
      " 10  state               1403 non-null   object \n",
      "dtypes: float64(3), int64(3), object(5)\n",
      "memory usage: 120.7+ KB\n"
     ]
    }
   ],
   "source": [
    "# read in merged data from repo \n",
    "beer_data = pd.read_csv('beer_data.csv')\n",
    "beer_data.head(2)\n",
    "\n",
    "beer_data.info()"
   ]
  },
  {
   "cell_type": "code",
   "execution_count": 5,
   "id": "entertaining-hepatitis",
   "metadata": {
    "execution": {
     "iopub.execute_input": "2021-03-20T17:23:38.372214Z",
     "iopub.status.busy": "2021-03-20T17:23:38.372214Z",
     "iopub.status.idle": "2021-03-20T17:23:39.200766Z",
     "shell.execute_reply": "2021-03-20T17:23:39.200766Z",
     "shell.execute_reply.started": "2021-03-20T17:23:38.372214Z"
    }
   },
   "outputs": [],
   "source": [
    "# testing psycopg2 connection to aws through postgres \n",
    "conn = psycopg2.connect(database='postgres', user=config.user, password=config.db_password, host=config.host)\n",
    "cur = conn.cursor()\n",
    "\n",
    "cur.execute('''CREATE TABLE beer_data ( \n",
    "                col_1 TEXT PRIMARY KEY,\n",
    "                col_2 BIGINT,\n",
    "                col_4 DOUBLE PRECISION,\n",
    "                col_7 DATE\n",
    "           );''')\n",
    "\n",
    "conn.commit()\n",
    "conn.close()"
   ]
  },
  {
   "cell_type": "code",
   "execution_count": 16,
   "id": "choice-sheriff",
   "metadata": {
    "execution": {
     "iopub.execute_input": "2021-03-20T18:10:00.310720Z",
     "iopub.status.busy": "2021-03-20T18:10:00.309722Z",
     "iopub.status.idle": "2021-03-20T18:10:00.315706Z",
     "shell.execute_reply": "2021-03-20T18:10:00.315706Z",
     "shell.execute_reply.started": "2021-03-20T18:10:00.309722Z"
    }
   },
   "outputs": [],
   "source": [
    "#testing sqlalcehmy database connection\n",
    "database = f'postgres://{config.user}:{config.db_password}@{config.host}/postgres'\n",
    "engine = create_engine(database)"
   ]
  },
  {
   "cell_type": "code",
   "execution_count": 17,
   "id": "extensive-trade",
   "metadata": {
    "execution": {
     "iopub.execute_input": "2021-03-20T18:10:01.303884Z",
     "iopub.status.busy": "2021-03-20T18:10:01.303884Z",
     "iopub.status.idle": "2021-03-20T18:10:02.441535Z",
     "shell.execute_reply": "2021-03-20T18:10:02.441535Z",
     "shell.execute_reply.started": "2021-03-20T18:10:01.303884Z"
    }
   },
   "outputs": [
    {
     "data": {
      "text/html": [
       "<div>\n",
       "<style scoped>\n",
       "    .dataframe tbody tr th:only-of-type {\n",
       "        vertical-align: middle;\n",
       "    }\n",
       "\n",
       "    .dataframe tbody tr th {\n",
       "        vertical-align: top;\n",
       "    }\n",
       "\n",
       "    .dataframe thead th {\n",
       "        text-align: right;\n",
       "    }\n",
       "</style>\n",
       "<table border=\"1\" class=\"dataframe\">\n",
       "  <thead>\n",
       "    <tr style=\"text-align: right;\">\n",
       "      <th></th>\n",
       "      <th>col_1</th>\n",
       "      <th>col_2</th>\n",
       "      <th>col_4</th>\n",
       "      <th>col_7</th>\n",
       "    </tr>\n",
       "  </thead>\n",
       "  <tbody>\n",
       "  </tbody>\n",
       "</table>\n",
       "</div>"
      ],
      "text/plain": [
       "Empty DataFrame\n",
       "Columns: [col_1, col_2, col_4, col_7]\n",
       "Index: []"
      ]
     },
     "execution_count": 17,
     "metadata": {},
     "output_type": "execute_result"
    }
   ],
   "source": [
    "# testing querying database \n",
    "pd.read_sql_query('SELECT * FROM sample' ,con=engine)"
   ]
  },
  {
   "cell_type": "code",
   "execution_count": null,
   "id": "julian-relative",
   "metadata": {},
   "outputs": [],
   "source": []
  }
 ],
 "metadata": {
  "kernelspec": {
   "display_name": "PythonData",
   "language": "python",
   "name": "pythondata"
  },
  "language_info": {
   "codemirror_mode": {
    "name": "ipython",
    "version": 3
   },
   "file_extension": ".py",
   "mimetype": "text/x-python",
   "name": "python",
   "nbconvert_exporter": "python",
   "pygments_lexer": "ipython3",
   "version": "3.7.9"
  }
 },
 "nbformat": 4,
 "nbformat_minor": 5
}
