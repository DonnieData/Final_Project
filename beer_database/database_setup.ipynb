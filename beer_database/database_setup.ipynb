{
 "cells": [
  {
   "cell_type": "code",
   "execution_count": 3,
   "id": "warming-defeat",
   "metadata": {
    "execution": {
     "iopub.execute_input": "2021-03-24T17:53:18.018036Z",
     "iopub.status.busy": "2021-03-24T17:53:18.018036Z",
     "iopub.status.idle": "2021-03-24T17:53:18.023020Z",
     "shell.execute_reply": "2021-03-24T17:53:18.022022Z",
     "shell.execute_reply.started": "2021-03-24T17:53:18.018036Z"
    }
   },
   "outputs": [],
   "source": [
    "#import dependencies \n",
    "import pandas as pd \n",
    "from sqlalchemy import create_engine\n",
    "import psycopg2\n",
    "import config "
   ]
  },
  {
   "cell_type": "code",
   "execution_count": null,
   "id": "innovative-narrative",
   "metadata": {},
   "outputs": [],
   "source": [
    "#read in data into dataframe \n",
    "beer_url = pass\n",
    "breweries_url = pass \n",
    "\n",
    "#beers_df = pd.read_csv(beer_url)\n",
    "#brewery_df = pd.read_csv(brewery_df)\n",
    "#beer_df.head(2)\n",
    "#brewery_df.head(2)"
   ]
  },
  {
   "cell_type": "code",
   "execution_count": 10,
   "id": "extraordinary-halifax",
   "metadata": {
    "execution": {
     "iopub.execute_input": "2021-03-24T18:14:19.797961Z",
     "iopub.status.busy": "2021-03-24T18:14:19.796932Z",
     "iopub.status.idle": "2021-03-24T18:14:19.818909Z",
     "shell.execute_reply": "2021-03-24T18:14:19.818909Z",
     "shell.execute_reply.started": "2021-03-24T18:14:19.797961Z"
    }
   },
   "outputs": [
    {
     "data": {
      "text/html": [
       "<div>\n",
       "<style scoped>\n",
       "    .dataframe tbody tr th:only-of-type {\n",
       "        vertical-align: middle;\n",
       "    }\n",
       "\n",
       "    .dataframe tbody tr th {\n",
       "        vertical-align: top;\n",
       "    }\n",
       "\n",
       "    .dataframe thead th {\n",
       "        text-align: right;\n",
       "    }\n",
       "</style>\n",
       "<table border=\"1\" class=\"dataframe\">\n",
       "  <thead>\n",
       "    <tr style=\"text-align: right;\">\n",
       "      <th></th>\n",
       "      <th>abv</th>\n",
       "      <th>ibu</th>\n",
       "      <th>beer_id</th>\n",
       "      <th>beer_name</th>\n",
       "      <th>style</th>\n",
       "      <th>brewery_id</th>\n",
       "      <th>ounces</th>\n",
       "    </tr>\n",
       "  </thead>\n",
       "  <tbody>\n",
       "    <tr>\n",
       "      <th>0</th>\n",
       "      <td>0.061</td>\n",
       "      <td>60.0</td>\n",
       "      <td>1979</td>\n",
       "      <td>Bitter Bitch</td>\n",
       "      <td>American Pale Ale (APA)</td>\n",
       "      <td>177</td>\n",
       "      <td>12.0</td>\n",
       "    </tr>\n",
       "    <tr>\n",
       "      <th>1</th>\n",
       "      <td>0.099</td>\n",
       "      <td>92.0</td>\n",
       "      <td>1036</td>\n",
       "      <td>Lower De Boom</td>\n",
       "      <td>American Barleywine</td>\n",
       "      <td>368</td>\n",
       "      <td>8.4</td>\n",
       "    </tr>\n",
       "  </tbody>\n",
       "</table>\n",
       "</div>"
      ],
      "text/plain": [
       "     abv   ibu  beer_id      beer_name                    style  brewery_id  \\\n",
       "0  0.061  60.0     1979   Bitter Bitch  American Pale Ale (APA)         177   \n",
       "1  0.099  92.0     1036  Lower De Boom      American Barleywine         368   \n",
       "\n",
       "   ounces  \n",
       "0    12.0  \n",
       "1     8.4  "
      ]
     },
     "execution_count": 10,
     "metadata": {},
     "output_type": "execute_result"
    },
    {
     "data": {
      "text/html": [
       "<div>\n",
       "<style scoped>\n",
       "    .dataframe tbody tr th:only-of-type {\n",
       "        vertical-align: middle;\n",
       "    }\n",
       "\n",
       "    .dataframe tbody tr th {\n",
       "        vertical-align: top;\n",
       "    }\n",
       "\n",
       "    .dataframe thead th {\n",
       "        text-align: right;\n",
       "    }\n",
       "</style>\n",
       "<table border=\"1\" class=\"dataframe\">\n",
       "  <thead>\n",
       "    <tr style=\"text-align: right;\">\n",
       "      <th></th>\n",
       "      <th>brewery_id</th>\n",
       "      <th>brewery_name</th>\n",
       "      <th>city</th>\n",
       "      <th>state</th>\n",
       "    </tr>\n",
       "  </thead>\n",
       "  <tbody>\n",
       "    <tr>\n",
       "      <th>0</th>\n",
       "      <td>0</td>\n",
       "      <td>NorthGate Brewing</td>\n",
       "      <td>Minneapolis</td>\n",
       "      <td>MN</td>\n",
       "    </tr>\n",
       "    <tr>\n",
       "      <th>1</th>\n",
       "      <td>1</td>\n",
       "      <td>Against the Grain Brewery</td>\n",
       "      <td>Louisville</td>\n",
       "      <td>KY</td>\n",
       "    </tr>\n",
       "  </tbody>\n",
       "</table>\n",
       "</div>"
      ],
      "text/plain": [
       "   brewery_id               brewery_name         city state\n",
       "0           0         NorthGate Brewing   Minneapolis    MN\n",
       "1           1  Against the Grain Brewery   Louisville    KY"
      ]
     },
     "execution_count": 10,
     "metadata": {},
     "output_type": "execute_result"
    }
   ],
   "source": [
    "beer_df = pd.read_csv('../../beer_cleaned.csv')\n",
    "breweries_df = pd.read_csv('../../brewery_cleaned.csv')\n",
    "\n",
    "beer_df.head(2)\n",
    "breweries_df.head(2)"
   ]
  },
  {
   "cell_type": "code",
   "execution_count": 12,
   "id": "confidential-actress",
   "metadata": {
    "execution": {
     "iopub.execute_input": "2021-03-24T18:22:15.527716Z",
     "iopub.status.busy": "2021-03-24T18:22:15.527716Z",
     "iopub.status.idle": "2021-03-24T18:22:16.288153Z",
     "shell.execute_reply": "2021-03-24T18:22:16.285334Z",
     "shell.execute_reply.started": "2021-03-24T18:22:15.527716Z"
    }
   },
   "outputs": [],
   "source": [
    "#psycopg2 connection to aws through postgres \n",
    "conn = psycopg2.connect(database='postgres', user=config.user, password=config.db_password, host=config.host)\n",
    "cur = conn.cursor()\n",
    "\n",
    "cur.execute('''CREATE TABLE beers ( \n",
    "                    abv DOUBLE PRECISION, \n",
    "                    ibu DOUBLE PRECISION, \n",
    "                    beer_id TEXT, \n",
    "                    beer_name TEXT, \n",
    "                    style TEXT, \n",
    "                    brewery_id TEXT PRIMARY KEY, \n",
    "                    ounces DOUBLE PRECISION );\n",
    "                CREATE TABLE breweries (\n",
    "                    brewery_id TEXT PRIMARY KEY, \n",
    "                    brewery_name TEXT, \n",
    "                    city TEXT, \n",
    "                    state TEXT );''')\n",
    "\n",
    "conn.commit()\n",
    "conn.close()"
   ]
  },
  {
   "cell_type": "code",
   "execution_count": 13,
   "id": "revised-badge",
   "metadata": {
    "execution": {
     "iopub.execute_input": "2021-03-24T18:22:28.650319Z",
     "iopub.status.busy": "2021-03-24T18:22:28.650319Z",
     "iopub.status.idle": "2021-03-24T18:22:28.720691Z",
     "shell.execute_reply": "2021-03-24T18:22:28.720691Z",
     "shell.execute_reply.started": "2021-03-24T18:22:28.650319Z"
    }
   },
   "outputs": [],
   "source": [
    "#sqlalcehmy database connection\n",
    "database = f'postgres://{config.user}:{config.db_password}@{config.host}/postgres'\n",
    "engine = create_engine(database)"
   ]
  },
  {
   "cell_type": "code",
   "execution_count": 14,
   "id": "detected-southeast",
   "metadata": {
    "execution": {
     "iopub.execute_input": "2021-03-24T18:22:40.846828Z",
     "iopub.status.busy": "2021-03-24T18:22:40.846828Z",
     "iopub.status.idle": "2021-03-24T18:24:19.527936Z",
     "shell.execute_reply": "2021-03-24T18:24:19.527936Z",
     "shell.execute_reply.started": "2021-03-24T18:22:40.846828Z"
    }
   },
   "outputs": [],
   "source": [
    "# load beers dataframe \n",
    "beer_df.to_sql(name='beers', if_exists='append', index=False, con=engine)"
   ]
  },
  {
   "cell_type": "code",
   "execution_count": 15,
   "id": "former-clinic",
   "metadata": {
    "execution": {
     "iopub.execute_input": "2021-03-24T18:26:59.706750Z",
     "iopub.status.busy": "2021-03-24T18:26:59.705753Z",
     "iopub.status.idle": "2021-03-24T18:27:39.302057Z",
     "shell.execute_reply": "2021-03-24T18:27:39.302057Z",
     "shell.execute_reply.started": "2021-03-24T18:26:59.706750Z"
    }
   },
   "outputs": [],
   "source": [
    "#load breweries dataframe \n",
    "breweries_df.to_sql(name='breweries', if_exists='append', index=False, con=engine)"
   ]
  },
  {
   "cell_type": "code",
   "execution_count": 17,
   "id": "golden-ecuador",
   "metadata": {
    "execution": {
     "iopub.execute_input": "2021-03-24T20:26:36.601099Z",
     "iopub.status.busy": "2021-03-24T20:26:36.601099Z",
     "iopub.status.idle": "2021-03-24T20:26:37.545546Z",
     "shell.execute_reply": "2021-03-24T20:26:37.544549Z",
     "shell.execute_reply.started": "2021-03-24T20:26:36.601099Z"
    }
   },
   "outputs": [
    {
     "data": {
      "text/html": [
       "<div>\n",
       "<style scoped>\n",
       "    .dataframe tbody tr th:only-of-type {\n",
       "        vertical-align: middle;\n",
       "    }\n",
       "\n",
       "    .dataframe tbody tr th {\n",
       "        vertical-align: top;\n",
       "    }\n",
       "\n",
       "    .dataframe thead th {\n",
       "        text-align: right;\n",
       "    }\n",
       "</style>\n",
       "<table border=\"1\" class=\"dataframe\">\n",
       "  <thead>\n",
       "    <tr style=\"text-align: right;\">\n",
       "      <th></th>\n",
       "      <th>abv</th>\n",
       "      <th>ibu</th>\n",
       "      <th>beer_id</th>\n",
       "      <th>beer_name</th>\n",
       "      <th>style</th>\n",
       "      <th>brewery_id</th>\n",
       "      <th>ounces</th>\n",
       "    </tr>\n",
       "  </thead>\n",
       "  <tbody>\n",
       "    <tr>\n",
       "      <th>0</th>\n",
       "      <td>0.061</td>\n",
       "      <td>60.0</td>\n",
       "      <td>1979</td>\n",
       "      <td>Bitter Bitch</td>\n",
       "      <td>American Pale Ale (APA)</td>\n",
       "      <td>177</td>\n",
       "      <td>12.0</td>\n",
       "    </tr>\n",
       "    <tr>\n",
       "      <th>1</th>\n",
       "      <td>0.099</td>\n",
       "      <td>92.0</td>\n",
       "      <td>1036</td>\n",
       "      <td>Lower De Boom</td>\n",
       "      <td>American Barleywine</td>\n",
       "      <td>368</td>\n",
       "      <td>8.4</td>\n",
       "    </tr>\n",
       "    <tr>\n",
       "      <th>2</th>\n",
       "      <td>0.079</td>\n",
       "      <td>45.0</td>\n",
       "      <td>1024</td>\n",
       "      <td>Fireside Chat</td>\n",
       "      <td>Winter Warmer</td>\n",
       "      <td>368</td>\n",
       "      <td>12.0</td>\n",
       "    </tr>\n",
       "  </tbody>\n",
       "</table>\n",
       "</div>"
      ],
      "text/plain": [
       "     abv   ibu beer_id      beer_name                    style brewery_id  \\\n",
       "0  0.061  60.0    1979   Bitter Bitch  American Pale Ale (APA)        177   \n",
       "1  0.099  92.0    1036  Lower De Boom      American Barleywine        368   \n",
       "2  0.079  45.0    1024  Fireside Chat            Winter Warmer        368   \n",
       "\n",
       "   ounces  \n",
       "0    12.0  \n",
       "1     8.4  \n",
       "2    12.0  "
      ]
     },
     "execution_count": 17,
     "metadata": {},
     "output_type": "execute_result"
    }
   ],
   "source": [
    "# querying beers table \n",
    "pd.read_sql_query('''SELECT * \n",
    "                  FROM beers\n",
    "                  LIMIT 3;''' ,con=engine)"
   ]
  },
  {
   "cell_type": "code",
   "execution_count": 18,
   "id": "valued-collective",
   "metadata": {
    "execution": {
     "iopub.execute_input": "2021-03-24T20:26:40.337673Z",
     "iopub.status.busy": "2021-03-24T20:26:40.337673Z",
     "iopub.status.idle": "2021-03-24T20:26:40.551670Z",
     "shell.execute_reply": "2021-03-24T20:26:40.551670Z",
     "shell.execute_reply.started": "2021-03-24T20:26:40.337673Z"
    }
   },
   "outputs": [
    {
     "data": {
      "text/html": [
       "<div>\n",
       "<style scoped>\n",
       "    .dataframe tbody tr th:only-of-type {\n",
       "        vertical-align: middle;\n",
       "    }\n",
       "\n",
       "    .dataframe tbody tr th {\n",
       "        vertical-align: top;\n",
       "    }\n",
       "\n",
       "    .dataframe thead th {\n",
       "        text-align: right;\n",
       "    }\n",
       "</style>\n",
       "<table border=\"1\" class=\"dataframe\">\n",
       "  <thead>\n",
       "    <tr style=\"text-align: right;\">\n",
       "      <th></th>\n",
       "      <th>brewery_id</th>\n",
       "      <th>brewery_name</th>\n",
       "      <th>city</th>\n",
       "      <th>state</th>\n",
       "    </tr>\n",
       "  </thead>\n",
       "  <tbody>\n",
       "    <tr>\n",
       "      <th>0</th>\n",
       "      <td>0</td>\n",
       "      <td>NorthGate Brewing</td>\n",
       "      <td>Minneapolis</td>\n",
       "      <td>MN</td>\n",
       "    </tr>\n",
       "    <tr>\n",
       "      <th>1</th>\n",
       "      <td>1</td>\n",
       "      <td>Against the Grain Brewery</td>\n",
       "      <td>Louisville</td>\n",
       "      <td>KY</td>\n",
       "    </tr>\n",
       "    <tr>\n",
       "      <th>2</th>\n",
       "      <td>2</td>\n",
       "      <td>Jack's Abby Craft Lagers</td>\n",
       "      <td>Framingham</td>\n",
       "      <td>MA</td>\n",
       "    </tr>\n",
       "  </tbody>\n",
       "</table>\n",
       "</div>"
      ],
      "text/plain": [
       "  brewery_id               brewery_name         city state\n",
       "0          0         NorthGate Brewing   Minneapolis    MN\n",
       "1          1  Against the Grain Brewery   Louisville    KY\n",
       "2          2   Jack's Abby Craft Lagers   Framingham    MA"
      ]
     },
     "execution_count": 18,
     "metadata": {},
     "output_type": "execute_result"
    }
   ],
   "source": [
    "#querying breweries table \n",
    "pd.read_sql_query('''SELECT *\n",
    "                  FROM breweries\n",
    "                  LIMIT 3;''' ,con=engine)"
   ]
  },
  {
   "cell_type": "code",
   "execution_count": 21,
   "id": "protected-aluminum",
   "metadata": {
    "execution": {
     "iopub.execute_input": "2021-03-24T23:50:42.001250Z",
     "iopub.status.busy": "2021-03-24T23:50:42.000254Z",
     "iopub.status.idle": "2021-03-24T23:50:43.630631Z",
     "shell.execute_reply": "2021-03-24T23:50:43.630631Z",
     "shell.execute_reply.started": "2021-03-24T23:50:42.001250Z"
    }
   },
   "outputs": [
    {
     "data": {
      "text/html": [
       "<div>\n",
       "<style scoped>\n",
       "    .dataframe tbody tr th:only-of-type {\n",
       "        vertical-align: middle;\n",
       "    }\n",
       "\n",
       "    .dataframe tbody tr th {\n",
       "        vertical-align: top;\n",
       "    }\n",
       "\n",
       "    .dataframe thead th {\n",
       "        text-align: right;\n",
       "    }\n",
       "</style>\n",
       "<table border=\"1\" class=\"dataframe\">\n",
       "  <thead>\n",
       "    <tr style=\"text-align: right;\">\n",
       "      <th></th>\n",
       "      <th>count</th>\n",
       "    </tr>\n",
       "  </thead>\n",
       "  <tbody>\n",
       "    <tr>\n",
       "      <th>0</th>\n",
       "      <td>1326</td>\n",
       "    </tr>\n",
       "  </tbody>\n",
       "</table>\n",
       "</div>"
      ],
      "text/plain": [
       "   count\n",
       "0   1326"
      ]
     },
     "execution_count": 21,
     "metadata": {},
     "output_type": "execute_result"
    }
   ],
   "source": [
    "#joing tables \n",
    "pd.read_sql_query('''SELECT COUNT(*)\n",
    "                    FROM beers as be\n",
    "                    LEFT JOIN breweries as br\n",
    "                    ON (be.brewery_id = br.brewery_id)\n",
    "                    ;''',con=engine)"
   ]
  },
  {
   "cell_type": "code",
   "execution_count": null,
   "id": "hybrid-final",
   "metadata": {},
   "outputs": [],
   "source": []
  }
 ],
 "metadata": {
  "kernelspec": {
   "display_name": "PythonData",
   "language": "python",
   "name": "pythondata"
  },
  "language_info": {
   "codemirror_mode": {
    "name": "ipython",
    "version": 3
   },
   "file_extension": ".py",
   "mimetype": "text/x-python",
   "name": "python",
   "nbconvert_exporter": "python",
   "pygments_lexer": "ipython3",
   "version": "3.7.9"
  }
 },
 "nbformat": 4,
 "nbformat_minor": 5
}
