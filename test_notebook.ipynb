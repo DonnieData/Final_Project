{
 "cells": [
  {
   "cell_type": "markdown",
   "id": "academic-sierra",
   "metadata": {},
   "source": [
    "test_branch_13"
   ]
  },
  {
   "cell_type": "markdown",
   "id": "conditional-generator",
   "metadata": {},
   "source": [
    "test_2"
   ]
  },
  {
   "cell_type": "markdown",
   "id": "fiscal-range",
   "metadata": {
    "execution": {
     "iopub.execute_input": "2021-03-17T01:27:24.500830Z",
     "iopub.status.busy": "2021-03-17T01:27:24.497839Z",
     "iopub.status.idle": "2021-03-17T01:27:24.854068Z",
     "shell.execute_reply": "2021-03-17T01:27:24.848081Z",
     "shell.execute_reply.started": "2021-03-17T01:27:24.500830Z"
    }
   },
   "source": [
    "test_3 "
   ]
  },
  {
   "cell_type": "code",
   "execution_count": null,
   "id": "personal-following",
   "metadata": {},
   "outputs": [],
   "source": []
  }
 ],
 "metadata": {
  "kernelspec": {
   "display_name": "PythonData",
   "language": "python",
   "name": "pythondata"
  },
  "language_info": {
   "codemirror_mode": {
    "name": "ipython",
    "version": 3
   },
   "file_extension": ".py",
   "mimetype": "text/x-python",
   "name": "python",
   "nbconvert_exporter": "python",
   "pygments_lexer": "ipython3",
   "version": "3.7.9"
  }
 },
 "nbformat": 4,
 "nbformat_minor": 5
}
